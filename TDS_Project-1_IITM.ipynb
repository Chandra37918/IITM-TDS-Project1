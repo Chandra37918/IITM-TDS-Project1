{
  "nbformat": 4,
  "nbformat_minor": 0,
  "metadata": {
    "colab": {
      "provenance": []
    },
    "kernelspec": {
      "name": "python3",
      "display_name": "Python 3"
    },
    "language_info": {
      "name": "python"
    }
  },
  "cells": [
    {
      "cell_type": "markdown",
      "source": [
        "1. Who are the top 5 users in Beijing with the highest number of followers? List their login in order, comma-separated."
      ],
      "metadata": {
        "id": "GI0OHBXVfp0_"
      }
    },
    {
      "cell_type": "code",
      "execution_count": 27,
      "metadata": {
        "colab": {
          "base_uri": "https://localhost:8080/"
        },
        "id": "3OA8ZqnEfcT7",
        "outputId": "399fd111-0a4a-4ba0-8548-d93df39c10ec"
      },
      "outputs": [
        {
          "output_type": "stream",
          "name": "stdout",
          "text": [
            "michaelliao, daimajia, xiaolai, draveness, hongyangAndroid\n"
          ]
        }
      ],
      "source": [
        "#Q1\n",
        "import pandas as pd\n",
        "\n",
        "# Load the data\n",
        "users_df = pd.read_csv('users.csv')\n",
        "\n",
        "# Sort by followers and get top 5\n",
        "top_users = users_df.sort_values(by='followers', ascending=False).head(5)\n",
        "\n",
        "# Extract logins\n",
        "top_logins = top_users['login'].tolist()\n",
        "result = ', '.join(top_logins)\n",
        "\n",
        "print(result)\n"
      ]
    },
    {
      "cell_type": "markdown",
      "source": [
        "2. Who are the 5 earliest registered GitHub users in Beijing? List their login in ascending order of created_at, comma-separated."
      ],
      "metadata": {
        "id": "TH5iNa57gDus"
      }
    },
    {
      "cell_type": "code",
      "source": [
        "import pandas as pd\n",
        "\n",
        "# Load the data\n",
        "users_df = pd.read_csv('users.csv')\n",
        "\n",
        "# Convert created_at to datetime\n",
        "users_df['created_at'] = pd.to_datetime(users_df['created_at'])\n",
        "\n",
        "# Sort by created_at and get the earliest 5 users\n",
        "earliest_users = users_df.sort_values(by='created_at').head(5)\n",
        "\n",
        "# Extract logins\n",
        "earliest_logins = earliest_users['login'].tolist()\n",
        "result = ', '.join(earliest_logins)\n",
        "\n",
        "print(result)\n"
      ],
      "metadata": {
        "colab": {
          "base_uri": "https://localhost:8080/"
        },
        "id": "yQ7yG8lvgHWF",
        "outputId": "03380a03-31c9-4e2e-afb9-772760ac4a89"
      },
      "execution_count": 10,
      "outputs": [
        {
          "output_type": "stream",
          "name": "stdout",
          "text": [
            "robin, nwind, reeze, kejun, ZhangHanDong\n"
          ]
        }
      ]
    },
    {
      "cell_type": "markdown",
      "source": [
        "3. What are the 3 most popular license among these users? Ignore missing licenses. List the license_name in order, comma-separated."
      ],
      "metadata": {
        "id": "2FZd0taygyrW"
      }
    },
    {
      "cell_type": "code",
      "source": [
        "import pandas as pd\n",
        "\n",
        "# Load the data\n",
        "repositories_df = pd.read_csv('repositories.csv')\n",
        "\n",
        "# Filter out missing license names\n",
        "repositories_df = repositories_df[repositories_df['license_name'].notna()]\n",
        "\n",
        "# Count occurrences of each license\n",
        "license_counts = repositories_df['license_name'].value_counts()\n",
        "\n",
        "# Get the top 3 licenses\n",
        "top_licenses = license_counts.head(3).index.tolist()\n",
        "\n",
        "# Join the license names in order\n",
        "result = ', '.join(top_licenses)\n",
        "\n",
        "print(result)"
      ],
      "metadata": {
        "colab": {
          "base_uri": "https://localhost:8080/"
        },
        "id": "PEhDngDYg0Z_",
        "outputId": "2810bab6-41b2-4283-b928-c4deb4b28fb6"
      },
      "execution_count": 11,
      "outputs": [
        {
          "output_type": "stream",
          "name": "stdout",
          "text": [
            "mit, apache-2.0, other\n"
          ]
        }
      ]
    },
    {
      "cell_type": "markdown",
      "source": [
        "4. Which company do the majority of these developers work at?\n"
      ],
      "metadata": {
        "id": "6_15OWhog_5T"
      }
    },
    {
      "cell_type": "code",
      "source": [
        "import pandas as pd\n",
        "\n",
        "# Load the data\n",
        "users_df = pd.read_csv('users.csv')\n",
        "\n",
        "# Count occurrences of each company\n",
        "company_counts = users_df['company'].value_counts()\n",
        "\n",
        "# Get the company with the highest count\n",
        "most_common_company = company_counts.idxmax()\n",
        "most_common_count = company_counts.max()\n",
        "\n",
        "print(f\"The majority of developers work at: {most_common_company} with {most_common_count} developers.\")"
      ],
      "metadata": {
        "colab": {
          "base_uri": "https://localhost:8080/"
        },
        "id": "cjYfU_xNhFP4",
        "outputId": "e79703a9-75b2-4059-abbb-2eabe0be774e"
      },
      "execution_count": 12,
      "outputs": [
        {
          "output_type": "stream",
          "name": "stdout",
          "text": [
            "The majority of developers work at: BYTEDANCE with 12 developers.\n"
          ]
        }
      ]
    },
    {
      "cell_type": "markdown",
      "source": [
        "5.  Which programming language is most popular among these users?"
      ],
      "metadata": {
        "id": "qv3PH8J1hYUH"
      }
    },
    {
      "cell_type": "code",
      "source": [
        "#Q5\n",
        "import pandas as pd\n",
        "\n",
        "# Load the data\n",
        "repositories_df = pd.read_csv('repositories.csv')\n",
        "\n",
        "# Count occurrences of each programming language, ignoring missing values\n",
        "language_counts = repositories_df['language'].value_counts()\n",
        "\n",
        "# Get the most popular programming language\n",
        "most_popular_language = language_counts.idxmax()\n",
        "most_popular_count = language_counts.max()\n",
        "\n",
        "print(f\"The most popular programming language is: {most_popular_language} with {most_popular_count} repositories.\")\n"
      ],
      "metadata": {
        "colab": {
          "base_uri": "https://localhost:8080/"
        },
        "id": "tD20gx-vhZZ5",
        "outputId": "269f41d3-df29-4264-b0f2-01d85024e7fa"
      },
      "execution_count": 14,
      "outputs": [
        {
          "output_type": "stream",
          "name": "stdout",
          "text": [
            "The most popular programming language is: JavaScript with 4798 repositories.\n"
          ]
        }
      ]
    },
    {
      "cell_type": "markdown",
      "source": [
        "6. hich programming language is the second most popular among users who joined after 2020?"
      ],
      "metadata": {
        "id": "vP1PCx85hnoO"
      }
    },
    {
      "cell_type": "code",
      "source": [
        "#Q6\n",
        "import pandas as pd\n",
        "\n",
        "# Load the data\n",
        "users_df = pd.read_csv('users.csv')\n",
        "repositories_df = pd.read_csv('repositories.csv')\n",
        "\n",
        "# Convert created_at to datetime and filter users who joined after 2020\n",
        "users_df['created_at'] = pd.to_datetime(users_df['created_at'])\n",
        "recent_users = users_df[users_df['created_at'] > '2020-01-01']\n",
        "\n",
        "# Get the logins of recent users\n",
        "recent_user_logins = recent_users['login'].tolist()\n",
        "\n",
        "# Filter repositories by these users\n",
        "recent_repositories = repositories_df[repositories_df['login'].isin(recent_user_logins)]\n",
        "\n",
        "# Count occurrences of each programming language\n",
        "language_counts = recent_repositories['language'].value_counts()\n",
        "\n",
        "# Get the second most popular programming language\n",
        "second_most_popular_language = language_counts.nlargest(2).index[1]\n",
        "second_most_popular_count = language_counts.nlargest(2).values[1]\n",
        "\n",
        "print(f\"The second most popular programming language among users who joined after 2020 is: {second_most_popular_language} with {second_most_popular_count} repositories.\")\n"
      ],
      "metadata": {
        "colab": {
          "base_uri": "https://localhost:8080/"
        },
        "id": "lUYEluvIhpkl",
        "outputId": "3a70a74c-7060-4886-f514-e4d63fcc68e3"
      },
      "execution_count": 15,
      "outputs": [
        {
          "output_type": "stream",
          "name": "stdout",
          "text": [
            "The second most popular programming language among users who joined after 2020 is: JavaScript with 24 repositories.\n"
          ]
        }
      ]
    },
    {
      "cell_type": "markdown",
      "source": [
        "7. Which language has the highest average number of stars per repository?"
      ],
      "metadata": {
        "id": "r6TqUsJyjJjG"
      }
    },
    {
      "cell_type": "code",
      "source": [
        "#Q7\n",
        "import pandas as pd\n",
        "\n",
        "# Load the data\n",
        "repositories_df = pd.read_csv('repositories.csv')\n",
        "\n",
        "# Group by programming language and calculate the average stars\n",
        "average_stars = repositories_df.groupby('language')['stargazers_count'].mean()\n",
        "\n",
        "# Identify the language with the highest average stars\n",
        "highest_average_language = average_stars.idxmax()\n",
        "highest_average_value = average_stars.max()\n",
        "\n",
        "print(f\"The programming language with the highest average number of stars per repository is: {highest_average_language} with an average of {highest_average_value:.2f} stars.\")\n"
      ],
      "metadata": {
        "colab": {
          "base_uri": "https://localhost:8080/"
        },
        "id": "DEXRXlAyjHxa",
        "outputId": "3baa28bf-d893-45c8-e643-00665ab08dac"
      },
      "execution_count": 16,
      "outputs": [
        {
          "output_type": "stream",
          "name": "stdout",
          "text": [
            "The programming language with the highest average number of stars per repository is: Jinja with an average of 1716.50 stars.\n"
          ]
        }
      ]
    },
    {
      "cell_type": "markdown",
      "source": [
        "8. Let's define leader_strength as followers / (1 + following). Who are the top 5 in terms of leader_strength? List their login in order, comma-separated."
      ],
      "metadata": {
        "id": "AkuUFoQcjHcv"
      }
    },
    {
      "cell_type": "code",
      "source": [
        "#Q8\n",
        "import pandas as pd\n",
        "\n",
        "# Load the data\n",
        "users_df = pd.read_csv('users.csv')\n",
        "\n",
        "# Calculate leader_strength\n",
        "users_df['leader_strength'] = users_df['followers'] / (1 + users_df['following'])\n",
        "\n",
        "# Sort by leader_strength and get the top 5\n",
        "top_leaders = users_df.sort_values(by='leader_strength', ascending=False).head(5)\n",
        "\n",
        "# Extract logins\n",
        "top_logins = top_leaders['login'].tolist()\n",
        "result = ', '.join(top_logins)\n",
        "\n",
        "print(result)\n"
      ],
      "metadata": {
        "colab": {
          "base_uri": "https://localhost:8080/"
        },
        "id": "mkq4QUX9jV2W",
        "outputId": "c4b1612d-3f69-4e6a-e515-ec79cef9271b"
      },
      "execution_count": 17,
      "outputs": [
        {
          "output_type": "stream",
          "name": "stdout",
          "text": [
            "michaelliao, ityouknow, liuhuanyong, thunlp, shenghy\n"
          ]
        }
      ]
    },
    {
      "cell_type": "markdown",
      "source": [
        "9. What is the correlation between the number of followers and the number of public repositories among users in Beijing?"
      ],
      "metadata": {
        "id": "sbjS5dOhjdYy"
      }
    },
    {
      "cell_type": "code",
      "source": [
        "#Q9\n",
        "import pandas as pd\n",
        "\n",
        "# Load the data\n",
        "users_df = pd.read_csv('users.csv')\n",
        "\n",
        "# Calculate the correlation between followers and public repositories\n",
        "correlation = users_df['followers'].corr(users_df['public_repos'])\n",
        "\n",
        "print(f\"The correlation between the number of followers and the number of public repositories is: {correlation:.3f}\")\n"
      ],
      "metadata": {
        "colab": {
          "base_uri": "https://localhost:8080/"
        },
        "id": "Q7TGp1qBjfI9",
        "outputId": "58296dbc-9367-45ec-faa7-30f3d3bfb622"
      },
      "execution_count": 18,
      "outputs": [
        {
          "output_type": "stream",
          "name": "stdout",
          "text": [
            "The correlation between the number of followers and the number of public repositories is: 0.033\n"
          ]
        }
      ]
    },
    {
      "cell_type": "markdown",
      "source": [
        "10. Does creating more repos help users get more followers? Using regression, estimate how many additional followers a user gets per additional public repository."
      ],
      "metadata": {
        "id": "KBiVmOP-jngt"
      }
    },
    {
      "cell_type": "code",
      "source": [
        "#Q10\n",
        "import pandas as pd\n",
        "import statsmodels.api as sm\n",
        "\n",
        "# Load the data\n",
        "users_df = pd.read_csv('users.csv')\n",
        "\n",
        "# Define the independent variable (X) and dependent variable (Y)\n",
        "X = users_df['public_repos']\n",
        "Y = users_df['followers']\n",
        "\n",
        "# Add a constant to the independent variable (for the intercept)\n",
        "X = sm.add_constant(X)\n",
        "\n",
        "# Fit the regression model\n",
        "model = sm.OLS(Y, X).fit()\n",
        "\n",
        "# Get the summary of the regression results\n",
        "summary = model.summary()\n",
        "\n",
        "# Extract the coefficient for public_repos\n",
        "additional_followers_per_repo = model.params['public_repos']\n",
        "\n",
        "print(f\"Regression Results:\\n{summary}\")\n",
        "print(f\"Estimated additional followers per additional public repository: {additional_followers_per_repo:.3f}\")\n"
      ],
      "metadata": {
        "colab": {
          "base_uri": "https://localhost:8080/"
        },
        "id": "_IaUjvSOjqNT",
        "outputId": "18caee45-3609-44be-b20f-200ef7b38bbd"
      },
      "execution_count": 19,
      "outputs": [
        {
          "output_type": "stream",
          "name": "stdout",
          "text": [
            "Regression Results:\n",
            "                            OLS Regression Results                            \n",
            "==============================================================================\n",
            "Dep. Variable:              followers   R-squared:                       0.001\n",
            "Model:                            OLS   Adj. R-squared:                 -0.002\n",
            "Method:                 Least Squares   F-statistic:                    0.3884\n",
            "Date:                Thu, 31 Oct 2024   Prob (F-statistic):              0.534\n",
            "Time:                        07:51:31   Log-Likelihood:                -3388.6\n",
            "No. Observations:                 360   AIC:                             6781.\n",
            "Df Residuals:                     358   BIC:                             6789.\n",
            "Df Model:                           1                                         \n",
            "Covariance Type:            nonrobust                                         \n",
            "================================================================================\n",
            "                   coef    std err          t      P>|t|      [0.025      0.975]\n",
            "--------------------------------------------------------------------------------\n",
            "const         1591.5440    183.005      8.697      0.000    1231.643    1951.445\n",
            "public_repos     0.6570      1.054      0.623      0.534      -1.416       2.730\n",
            "==============================================================================\n",
            "Omnibus:                      522.829   Durbin-Watson:                   0.079\n",
            "Prob(Omnibus):                  0.000   Jarque-Bera (JB):            78625.467\n",
            "Skew:                           7.422   Prob(JB):                         0.00\n",
            "Kurtosis:                      73.862   Cond. No.                         203.\n",
            "==============================================================================\n",
            "\n",
            "Notes:\n",
            "[1] Standard Errors assume that the covariance matrix of the errors is correctly specified.\n",
            "Estimated additional followers per additional public repository: 0.657\n"
          ]
        }
      ]
    },
    {
      "cell_type": "markdown",
      "source": [
        "11. Do people typically enable projects and wikis together? What is the correlation between a repo having projects enabled and having wiki enabled?"
      ],
      "metadata": {
        "id": "XRMCpJeBjpSz"
      }
    },
    {
      "cell_type": "code",
      "source": [
        "#Q11\n",
        "import pandas as pd\n",
        "\n",
        "# Load the data\n",
        "repositories_df = pd.read_csv('repositories.csv')\n",
        "\n",
        "\n",
        "# Calculate the correlation directly\n",
        "correlation = repositories_df['has_projects'].astype(int).corr(repositories_df['has_wiki'].astype(int))\n",
        "\n",
        "print(f\"The correlation between having projects enabled and having a wiki enabled is: {correlation:.3f}\")\n"
      ],
      "metadata": {
        "colab": {
          "base_uri": "https://localhost:8080/"
        },
        "id": "0tMkzNX4j1nT",
        "outputId": "bd6e3645-8b51-4db8-bbf0-82ac866ddb35"
      },
      "execution_count": 20,
      "outputs": [
        {
          "output_type": "stream",
          "name": "stdout",
          "text": [
            "The correlation between having projects enabled and having a wiki enabled is: 0.251\n"
          ]
        }
      ]
    },
    {
      "cell_type": "code",
      "source": [
        "import pandas as pd\n",
        "\n",
        "# Load the data\n",
        "repositories = pd.read_csv('repositories.csv')\n",
        "if repos['has_projects'].dtype == 'object':\n",
        "    repos['has_projects'] = repos['has_projects'].map({'true': True, 'false': False})\n",
        "if repos['has_wiki'].dtype == 'object':\n",
        "    repos['has_wiki'] = repos['has_wiki'].map({'true': True, 'false': False})\n",
        "\n",
        "correlation = repos['has_projects'].corr(repos['has_wiki'])\n",
        "\n",
        "print(round(correlation, 3))"
      ],
      "metadata": {
        "colab": {
          "base_uri": "https://localhost:8080/"
        },
        "id": "ZkUP-ndNomwV",
        "outputId": "eb7f4c9b-9253-498f-b0f3-050ff212cea6"
      },
      "execution_count": 33,
      "outputs": [
        {
          "output_type": "stream",
          "name": "stdout",
          "text": [
            "0.251\n"
          ]
        }
      ]
    },
    {
      "cell_type": "markdown",
      "source": [
        "12. Do hireable users follow more people than those who are not hireable?"
      ],
      "metadata": {
        "id": "dLYEPGi6j-4d"
      }
    },
    {
      "cell_type": "code",
      "source": [
        "#Q12\n",
        "import pandas as pd\n",
        "\n",
        "# Load the users data from the CSV file\n",
        "users_df = pd.read_csv('users.csv')\n",
        "\n",
        "# Filter hireable and non-hireable users\n",
        "hireable_users = users_df[users_df['hireable'] == True]\n",
        "non_hireable_users = users_df[users_df['hireable'].isna() | (users_df['hireable'] == False)]\n",
        "\n",
        "# Calculate average following for both groups\n",
        "average_hireable_following = hireable_users['following'].mean()\n",
        "average_non_hireable_following = non_hireable_users['following'].mean()\n",
        "\n",
        "# Calculate the difference\n",
        "difference = average_hireable_following - average_non_hireable_following\n",
        "\n",
        "# Print the result rounded to three decimal places\n",
        "print(f'Difference in average following (hireable - non-hireable): {difference:.3f}')\n"
      ],
      "metadata": {
        "colab": {
          "base_uri": "https://localhost:8080/"
        },
        "id": "a_qS1oX3kAWT",
        "outputId": "e505f97a-39e5-41ac-d76e-2f610ed799b6"
      },
      "execution_count": 21,
      "outputs": [
        {
          "output_type": "stream",
          "name": "stdout",
          "text": [
            "Difference in average following (hireable - non-hireable): 149.502\n"
          ]
        }
      ]
    },
    {
      "cell_type": "code",
      "source": [
        "import pandas as pd\n",
        "\n",
        "# Load the users data from the CSV file\n",
        "users = pd.read_csv('users.csv')\n",
        "hireable_avg_following = users[users['hireable'] == True]['following'].mean()\n",
        "non_hireable_avg_following = users[users['hireable'] == False]['following'].mean()\n",
        "difference = hireable_avg_following - non_hireable_avg_following\n",
        "difference"
      ],
      "metadata": {
        "colab": {
          "base_uri": "https://localhost:8080/"
        },
        "id": "ZNjdcywFoAuI",
        "outputId": "fd54afa6-c605-484b-9cc4-977057c6929b"
      },
      "execution_count": 32,
      "outputs": [
        {
          "output_type": "execute_result",
          "data": {
            "text/plain": [
              "nan"
            ]
          },
          "metadata": {},
          "execution_count": 32
        }
      ]
    },
    {
      "cell_type": "markdown",
      "source": [
        "13. Some developers write long bios. Does that help them get more followers? What's the impact of the length of their bio (in Unicode words, split by whitespace) with followers? (Ignore people without bios)"
      ],
      "metadata": {
        "id": "Frp5Ar2wkJU_"
      }
    },
    {
      "cell_type": "code",
      "source": [
        "#Q13\n",
        "import pandas as pd\n",
        "import statsmodels.api as sm\n",
        "\n",
        "# Load the users data from the CSV file\n",
        "users_df = pd.read_csv('users.csv')\n",
        "\n",
        "# Filter out users without bios\n",
        "users_with_bios = users_df[users_df['bio'].notna()]\n",
        "\n",
        "# Calculate the length of the bio in words\n",
        "#users_with_bios['bio_word_count'] = users_with_bios['bio'].str.split(\" \").str.len()\n",
        "\n",
        "users_with_bios['bio_word_count'] = users_with_bios['bio'].apply(lambda x: len(x.split()))\n",
        "\n",
        "\n",
        "# Prepare the data for regression\n",
        "X = users_with_bios['bio_word_count']  # Independent variable\n",
        "y = users_with_bios['followers']        # Dependent variable\n",
        "\n",
        "# Add a constant to the independent variable for the regression\n",
        "X = sm.add_constant(X)\n",
        "\n",
        "# Fit the regression model\n",
        "model = sm.OLS(y, X).fit()\n",
        "\n",
        "# Get the regression slope (coefficient for bio_word_count)\n",
        "slope = model.params['bio_word_count']\n",
        "\n",
        "# Print the slope rounded to three decimal places\n",
        "print(f'Regression slope of followers on bio word count: {slope:.3f}')\n"
      ],
      "metadata": {
        "colab": {
          "base_uri": "https://localhost:8080/"
        },
        "id": "lvL__2A1kI88",
        "outputId": "f114d494-5bc5-4a0f-bf46-65d12692a64f"
      },
      "execution_count": 23,
      "outputs": [
        {
          "output_type": "stream",
          "name": "stdout",
          "text": [
            "Regression slope of followers on bio word count: -11.763\n"
          ]
        },
        {
          "output_type": "stream",
          "name": "stderr",
          "text": [
            "<ipython-input-23-0d29c74c7506>:14: SettingWithCopyWarning: \n",
            "A value is trying to be set on a copy of a slice from a DataFrame.\n",
            "Try using .loc[row_indexer,col_indexer] = value instead\n",
            "\n",
            "See the caveats in the documentation: https://pandas.pydata.org/pandas-docs/stable/user_guide/indexing.html#returning-a-view-versus-a-copy\n",
            "  users_with_bios['bio_word_count'] = users_with_bios['bio'].apply(lambda x: len(x.split()))\n"
          ]
        }
      ]
    },
    {
      "cell_type": "markdown",
      "source": [
        "14. Who created the most repositories on weekends (UTC)? List the top 5 users' login in order, comma-separated"
      ],
      "metadata": {
        "id": "Sxw1hAL8kmHk"
      }
    },
    {
      "cell_type": "code",
      "source": [
        "#Q14\n",
        "import pandas as pd\n",
        "\n",
        "# Load the repositories data from the CSV file\n",
        "repos_df = pd.read_csv('repositories.csv')\n",
        "\n",
        "# Convert the created_at column to datetime\n",
        "repos_df['created_at'] = pd.to_datetime(repos_df['created_at'])\n",
        "\n",
        "# Filter for weekend days (Saturday: 5, Sunday: 6)\n",
        "weekend_repos = repos_df[repos_df['created_at'].dt.dayofweek.isin([5, 6])]\n",
        "\n",
        "# Count the number of repositories created by each user\n",
        "top_users = weekend_repos['login'].value_counts().head(5)\n",
        "\n",
        "# Get the top 5 users' logins in order\n",
        "top_users_logins = ', '.join(top_users.index)\n",
        "\n",
        "# Print the result\n",
        "print(f'Top 5 users who created the most repositories on weekends: {top_users_logins}')\n"
      ],
      "metadata": {
        "colab": {
          "base_uri": "https://localhost:8080/"
        },
        "id": "V9Tvd3qxknkB",
        "outputId": "c52cecec-8bfc-496f-bf6f-4509d5f30178"
      },
      "execution_count": 24,
      "outputs": [
        {
          "output_type": "stream",
          "name": "stdout",
          "text": [
            "Top 5 users who created the most repositories on weekends: LinuxSuRen, hailiang-wang, xiaoweiruby, i5ting, zhufengnodejs\n"
          ]
        }
      ]
    },
    {
      "cell_type": "markdown",
      "source": [
        "15. Do people who are hireable share their email addresses more often?"
      ],
      "metadata": {
        "id": "s6VpwkTtkvqt"
      }
    },
    {
      "cell_type": "code",
      "source": [
        "#Q15\n",
        "import pandas as pd\n",
        "\n",
        "# Load the users data from the CSV file\n",
        "users_df = pd.read_csv('users.csv')\n",
        "\n",
        "# Total number of users\n",
        "total_users = len(users_df)\n",
        "\n",
        "# Filter hireable and non-hireable users\n",
        "hireable_users = users_df[users_df['hireable'] == True]\n",
        "non_hireable_users = users_df[users_df['hireable'].isna() | (users_df['hireable'] == False)]\n",
        "\n",
        "# Calculate the fraction of users with email in both groups\n",
        "fraction_hireable_with_email = hireable_users['email'].notna().mean()\n",
        "fraction_non_hireable_with_email = non_hireable_users['email'].notna().mean()\n",
        "\n",
        "# Calculate the difference\n",
        "difference = fraction_hireable_with_email - fraction_non_hireable_with_email\n",
        "\n",
        "# Print the result rounded to three decimal places\n",
        "print(f'Difference in fraction of users with email: {difference:.3f}')\n"
      ],
      "metadata": {
        "colab": {
          "base_uri": "https://localhost:8080/"
        },
        "id": "_Xd89XmekvBe",
        "outputId": "d4eb9c4e-cb90-4b25-a26d-021475b13820"
      },
      "execution_count": 25,
      "outputs": [
        {
          "output_type": "stream",
          "name": "stdout",
          "text": [
            "Difference in fraction of users with email: 0.063\n"
          ]
        }
      ]
    },
    {
      "cell_type": "code",
      "source": [
        "import pandas as pd\n",
        "\n",
        "# Load the users data from the CSV file\n",
        "users = pd.read_csv('users.csv')\n",
        "fraction_hierable = users[users['hireable'] == True]['email'].notna().mean()\n",
        "fraction_non_hierable = users[users['hireable'] == False]['email'].notna().mean()\n",
        "diff = fraction_hierable - fraction_non_hierable\n",
        "diff"
      ],
      "metadata": {
        "colab": {
          "base_uri": "https://localhost:8080/"
        },
        "id": "iH-lPYYynqAX",
        "outputId": "dce5a46a-0dc9-4d0e-af5c-8c152ee1ec81"
      },
      "execution_count": 31,
      "outputs": [
        {
          "output_type": "execute_result",
          "data": {
            "text/plain": [
              "nan"
            ]
          },
          "metadata": {},
          "execution_count": 31
        }
      ]
    },
    {
      "cell_type": "markdown",
      "source": [
        "16.  Let's assume that the last word in a user's name is their surname (ignore missing names, trim and split by whitespace.) What's the most common surname? (If there's a tie, list them all, comma-separated, alphabetically)"
      ],
      "metadata": {
        "id": "rkSBFYzak5Ma"
      }
    },
    {
      "cell_type": "code",
      "source": [
        "#Q16\n",
        "import pandas as pd\n",
        "\n",
        "# Load the users data from the CSV file\n",
        "users_df = pd.read_csv('users.csv')\n",
        "\n",
        "# Filter out users without names\n",
        "valid_users = users_df[users_df['name'].notna()]\n",
        "\n",
        "# Extract surnames (last word in name)\n",
        "valid_users['surname'] = valid_users['name'].str.strip().str.split().str[-1]\n",
        "\n",
        "# Count occurrences of each surname\n",
        "surname_counts = valid_users['surname'].value_counts()\n",
        "\n",
        "# Find the most common surname(s)\n",
        "max_count = surname_counts.max()\n",
        "most_common_surnames = surname_counts[surname_counts == max_count].index.tolist()\n",
        "\n",
        "# Sort surnames alphabetically\n",
        "most_common_surnames.sort()\n",
        "\n",
        "# Count users with the most common surname\n",
        "number_of_users = max_count\n",
        "\n",
        "# Print results\n",
        "most_common_surnames_str = ', '.join(most_common_surnames)\n",
        "print(f'Most common surname(s): {most_common_surnames_str}')\n",
        "print(f'Number of users with the most common surname: {number_of_users}')\n"
      ],
      "metadata": {
        "colab": {
          "base_uri": "https://localhost:8080/"
        },
        "id": "9G1mkJs6k4wZ",
        "outputId": "3af51a4e-eb8d-4f7b-bbe1-cbe393411e89"
      },
      "execution_count": 26,
      "outputs": [
        {
          "output_type": "stream",
          "name": "stdout",
          "text": [
            "Most common surname(s): Zhang\n",
            "Number of users with the most common surname: 11\n"
          ]
        },
        {
          "output_type": "stream",
          "name": "stderr",
          "text": [
            "<ipython-input-26-dc0f22873520>:11: SettingWithCopyWarning: \n",
            "A value is trying to be set on a copy of a slice from a DataFrame.\n",
            "Try using .loc[row_indexer,col_indexer] = value instead\n",
            "\n",
            "See the caveats in the documentation: https://pandas.pydata.org/pandas-docs/stable/user_guide/indexing.html#returning-a-view-versus-a-copy\n",
            "  valid_users['surname'] = valid_users['name'].str.strip().str.split().str[-1]\n"
          ]
        }
      ]
    }
  ]
}